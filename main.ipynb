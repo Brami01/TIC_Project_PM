{
 "cells": [
  {
   "cell_type": "code",
   "execution_count": null,
   "id": "45ebf3e8-a988-4437-8e0c-d0a1cda2ae4e",
   "metadata": {},
   "outputs": [],
   "source": []
  },
  {
   "cell_type": "code",
   "execution_count": 8,
   "id": "0732256d-6628-40c8-9169-41e605b59bdf",
   "metadata": {},
   "outputs": [],
   "source": [
    "%load_ext autoreload\n",
    "%autoreload 2\n",
    "import pandas as pd\n",
    "import numpy as np\n",
    "import matplotlib.pyplot as plt\n",
    "%matplotlib inline\n",
    "\n",
    "#Load the datasets\n",
    "errors =  pd.read_csv('data/PdM_errors.csv')\n",
    "failures =  pd.read_csv('data/PdM_failures.csv')\n",
    "machines =  pd.read_csv('data/PdM_machines.csv')\n",
    "maint =  pd.read_csv('data/PdM_maint.csv')\n",
    "telemetry =  pd.read_csv('data/PdM_telemetry.csv')"
   ]
  },
  {
   "cell_type": "code",
   "execution_count": 18,
   "id": "b4fcafd1-2759-417c-b069-f15a6767e53b",
   "metadata": {},
   "outputs": [
    {
     "data": {
      "text/html": [
       "<div>\n",
       "<style scoped>\n",
       "    .dataframe tbody tr th:only-of-type {\n",
       "        vertical-align: middle;\n",
       "    }\n",
       "\n",
       "    .dataframe tbody tr th {\n",
       "        vertical-align: top;\n",
       "    }\n",
       "\n",
       "    .dataframe thead th {\n",
       "        text-align: right;\n",
       "    }\n",
       "</style>\n",
       "<table border=\"1\" class=\"dataframe\">\n",
       "  <thead>\n",
       "    <tr style=\"text-align: right;\">\n",
       "      <th></th>\n",
       "      <th>datetime</th>\n",
       "      <th>machineID</th>\n",
       "      <th>errorID</th>\n",
       "    </tr>\n",
       "  </thead>\n",
       "  <tbody>\n",
       "    <tr>\n",
       "      <th>0</th>\n",
       "      <td>2015-01-03 07:00:00</td>\n",
       "      <td>1</td>\n",
       "      <td>error1</td>\n",
       "    </tr>\n",
       "    <tr>\n",
       "      <th>1</th>\n",
       "      <td>2015-01-03 20:00:00</td>\n",
       "      <td>1</td>\n",
       "      <td>error3</td>\n",
       "    </tr>\n",
       "    <tr>\n",
       "      <th>2</th>\n",
       "      <td>2015-01-04 06:00:00</td>\n",
       "      <td>1</td>\n",
       "      <td>error5</td>\n",
       "    </tr>\n",
       "    <tr>\n",
       "      <th>3</th>\n",
       "      <td>2015-01-10 15:00:00</td>\n",
       "      <td>1</td>\n",
       "      <td>error4</td>\n",
       "    </tr>\n",
       "    <tr>\n",
       "      <th>4</th>\n",
       "      <td>2015-01-22 10:00:00</td>\n",
       "      <td>1</td>\n",
       "      <td>error4</td>\n",
       "    </tr>\n",
       "  </tbody>\n",
       "</table>\n",
       "</div>"
      ],
      "text/plain": [
       "             datetime  machineID errorID\n",
       "0 2015-01-03 07:00:00          1  error1\n",
       "1 2015-01-03 20:00:00          1  error3\n",
       "2 2015-01-04 06:00:00          1  error5\n",
       "3 2015-01-10 15:00:00          1  error4\n",
       "4 2015-01-22 10:00:00          1  error4"
      ]
     },
     "execution_count": 18,
     "metadata": {},
     "output_type": "execute_result"
    }
   ],
   "source": [
    "# Change datetime strings to real datetimes\n",
    "errors['datetime'] = pd.to_datetime(errors['datetime'])\n",
    "failures['datetime'] = pd.to_datetime(failures['datetime'])\n",
    "maint['datetime'] = pd.to_datetime(maint['datetime'])\n",
    "telemetry['datetime'] = pd.to_datetime(telemetry['datetime'])"
   ]
  },
  {
   "cell_type": "code",
   "execution_count": 53,
   "id": "47cc6da2-1db4-4ffa-831a-19e18d9f7444",
   "metadata": {},
   "outputs": [
    {
     "data": {
      "text/plain": [
       "([<matplotlib.axis.XTick at 0x1b225af3580>,\n",
       "  <matplotlib.axis.XTick at 0x1b225af3af0>,\n",
       "  <matplotlib.axis.XTick at 0x1b225ae0460>,\n",
       "  <matplotlib.axis.XTick at 0x1b225bb1160>,\n",
       "  <matplotlib.axis.XTick at 0x1b225bb1790>],\n",
       " [Text(0, 0, 'error1'),\n",
       "  Text(1, 0, 'error2'),\n",
       "  Text(2, 0, 'error3'),\n",
       "  Text(3, 0, 'error4'),\n",
       "  Text(4, 0, 'error5')])"
      ]
     },
     "execution_count": 53,
     "metadata": {},
     "output_type": "execute_result"
    },
    {
     "data": {
      "image/png": "[encoded data removed]",
      "text/plain": [
       "<Figure size 432x288 with 1 Axes>"
      ]
     },
     "metadata": {
      "needs_background": "light"
     },
     "output_type": "display_data"
    }
   ],
   "source": [
    "'''e = errors.groupby('errorID').count()\n",
    "plt.bar(np.arange(len(e.index)), e.machineID)\n",
    "plt.xticks(np.arange(len(e.index)), labels=e.index)'''\n"
   ]
  },
  {
   "cell_type": "code",
   "execution_count": null,
   "id": "56897a54-43a6-475a-8242-51341ea3f249",
   "metadata": {},
   "outputs": [],
   "source": []
  }
 ],
 "metadata": {
  "kernelspec": {
   "display_name": "Python 3 (ipykernel)",
   "language": "python",
   "name": "python3"
  },
  "language_info": {
   "codemirror_mode": {
    "name": "ipython",
    "version": 3
   },
   "file_extension": ".py",
   "mimetype": "text/x-python",
   "name": "python",
   "nbconvert_exporter": "python",
   "pygments_lexer": "ipython3",
   "version": "3.8.12"
  }
 },
 "nbformat": 4,
 "nbformat_minor": 5
}
