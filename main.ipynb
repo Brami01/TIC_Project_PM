{
 "cells": [
  {
   "cell_type": "markdown",
   "id": "2714daeb-b9df-4a5c-8320-b2693de920b5",
   "metadata": {},
   "source": [
    "# Mantenimiento Predictivo Basado en Datos de Equipamiento de Microsoft Azure\n",
    "\n",
    "## Resumen\n",
    "\n",
    "El objetivo es construir un modelo de ML para predecir cuando habrá un fallo en los equipos, apoyandose en datos de telemetria y reportes de fallos, errores y mantenimientos. Pero para predecir los posibles fallos, uno debe saber que falla, cuanto tiempo resiste, que valores son los influyentes y más. Por tanto, para analizar el comportamiento tanto de los equipos como del modelo generado y comprender la situación, se requiere conocer el proposito de las distintas variables y la relacion que tienen.\n",
    "\n",
    "## Contexto\n",
    "\n",
    "El mantenimiento predictivo es \n",
    "una solución que utiliza tecnicas de data analysis y tecnicas de detección de anomalias para mantener operativo el equipamiento que se puede reparar antes de que resulten en fallos.\n",
    "\n",
    "Se escogio este tema por que idealmente se espera resolver problemas serios y dificiles como estos, manteniendo una manera efectiva de realizar mantenimiento reactivo sin incurrir a costos posteriores al desarrollo."
   ]
  },
  {
   "cell_type": "markdown",
   "id": "8e0ea04e-c446-4587-976a-7a72bfda5ba8",
   "metadata": {},
   "source": [
    "<img src=\"img/predictive-maintenance.jpg\" width=\"800\">"
   ]
  },
  {
   "cell_type": "markdown",
   "id": "7017ae10-489b-4d11-9363-89b83510f1f5",
   "metadata": {},
   "source": [
    "---\n",
    "## Los datos \n",
    "\n",
    "Los datos estan en el folder \"data\", en este directorio encontraran 5 archivos:\n",
    "\n",
    "\n",
    "### `PdM_errors.csv`\n",
    "\n",
    "Es un archivo csv que contiene el registro de los errores que no rompen su funcionamiento y permiten al sistema seguir siendo funcional, asi que no se nombran como fallos.\n",
    "\n",
    "**Ejemplo:**\n",
    "~~~\n",
    "     datetime            machineID    errorID\n",
    "2015-01-03 07:00:00         1          error1\n",
    "2015-01-03 20:00:00         1          error3\n",
    "2015-01-04 06:00:00         1          error5\n",
    "(...)\n",
    "~~~\n",
    "\n",
    "### `PdM_failures.csv`\n",
    "\n",
    "Es un archivo csv que contiene el registro de los componentes que se tienen que reemplazar debido a fallos donde se guarda la fecha en que se arruino, la maquina que fue y el tipo de componente que fallo., \n",
    "\n",
    "**Ejemplo:**\n",
    "~~~\n",
    "     datetime            machineID    failure\n",
    "2015-01-05 06:00:00         1          comp4\n",
    "2015-03-06 06:00:00         1          comp1\n",
    "2015-04-20 06:00:00         1          comp2\n",
    "(...)\n",
    "~~~\n",
    "\n",
    "### `PdM_machines.csv`\n",
    "\n",
    "Es un archivo csv que incluye la meta data sobre las maquinas, ya que involucra el modelo que es el equipo y la cantidad de años en servicio que tiene.\n",
    "\n",
    "\n",
    "~~~\n",
    "machineID    model       age\n",
    "    1        model3      18\n",
    "    2        model4       7\n",
    "    3        model3       8\n",
    "(...)\n",
    "~~~\n",
    "\n",
    "### `PdM_maint.csv`\n",
    "Es un archivo csv que contiene los registros de mantenimientos programados y no programados para la inspección de componentes, asi como sus fallos. Estos normalmente se generan si se reemplaza un componente debido a esa inspección o debido a un colapso del sistema. Estos son los registros del 2014 y 2015.\n",
    "\n",
    "**Ejemplo:**\n",
    "~~~\n",
    "     datetime            machineID    comp\n",
    "2014-06-01 06:00:00         1         comp2\n",
    "2014-07-16 06:00:00         1         comp4\n",
    "2014-07-31 06:00:00         1         comp3\n",
    "(...)\n",
    "~~~\n",
    "\n",
    "### `PdM_telemetry.csv`\n",
    "\n",
    "Es un archivo csv que contiene la información de telemetria de los equipos, que consiste de datos medibles colectados de 100 maquinas en tiempo real, donde esas medidas se promedian cada hora durante el año 2015. \n",
    "\n",
    "**Ejemplo:**\n",
    "~~~\n",
    "     datetime       machineID         volt            rotate          pressure         vibration\n",
    "2015-01-01 06:00:00    1       176.217853015625 418.504078221616 113.077935462083  45.0876857639276\n",
    "2015-01-01 07:00:00    1       162.87922289706  402.747489565395 95.4605253823187  43.4139726834815\n",
    "2015-01-01 08:00:00    1       170.989902405567 527.349825452291 75.2379048586662  34.1788471214451\n",
    "(...)\n",
    "~~~\n",
    "\n",
    "**This dataset was available as a part of Azure AI Notebooks for Predictive Maintenance, current versions are no longer available.**"
   ]
  },
  {
   "cell_type": "markdown",
   "id": "42351417-c9cb-47df-8f02-6a0c81c1c16d",
   "metadata": {},
   "source": [
    "---\n",
    "\n",
    "## Paso 1:_ Cargar los datos\n",
    "\n",
    "---\n",
    "\n",
    "Lo primero que se hace es cargar las librerias que se emplearan, asi como cargar los archivos que se emplearan:"
   ]
  },
  {
   "cell_type": "code",
   "execution_count": 1,
   "id": "e3556ca3-726d-47b1-bcfe-c1a3d0ec2eab",
   "metadata": {},
   "outputs": [],
   "source": [
    "%load_ext autoreload\n",
    "%autoreload 2\n",
    "import pandas as pd\n",
    "import numpy as np\n",
    "import matplotlib.pyplot as plt\n",
    "%matplotlib inline"
   ]
  },
  {
   "cell_type": "markdown",
   "id": "62080032-cbca-4123-8a67-a8f74b3cff9f",
   "metadata": {},
   "source": [
    "Posteriormente cargamos los datasets que emplearemos, asi como modificamos sus fechas que fueron guardadas como string"
   ]
  },
  {
   "cell_type": "code",
   "execution_count": 2,
   "id": "61a15b54-2bee-49ca-927e-5f39f8d09f3f",
   "metadata": {},
   "outputs": [],
   "source": [
    "errors =  pd.read_csv('data/PdM_errors.csv')\n",
    "errors['datetime'] = pd.to_datetime(errors['datetime'])\n",
    "\n",
    "failures =  pd.read_csv('data/PdM_failures.csv')\n",
    "failures['datetime'] = pd.to_datetime(failures['datetime'])\n",
    "\n",
    "machines =  pd.read_csv('data/PdM_machines.csv')\n",
    "\n",
    "maint =  pd.read_csv('data/PdM_maint.csv')\n",
    "maint['datetime'] = pd.to_datetime(maint['datetime'])\n",
    "\n",
    "telemetry =  pd.read_csv('data/PdM_telemetry.csv')\n",
    "telemetry['datetime'] = pd.to_datetime(telemetry['datetime'])"
   ]
  },
  {
   "cell_type": "code",
   "execution_count": 3,
   "id": "47cc6da2-1db4-4ffa-831a-19e18d9f7444",
   "metadata": {},
   "outputs": [
    {
     "data": {
      "text/plain": [
       "\"e = errors.groupby('errorID').count()\\nplt.bar(np.arange(len(e.index)), e.machineID)\\nplt.xticks(np.arange(len(e.index)), labels=e.index)\""
      ]
     },
     "execution_count": 3,
     "metadata": {},
     "output_type": "execute_result"
    }
   ],
   "source": [
    "'''e = errors.groupby('errorID').count()\n",
    "plt.bar(np.arange(len(e.index)), e.machineID)\n",
    "plt.xticks(np.arange(len(e.index)), labels=e.index)'''\n"
   ]
  },
  {
   "cell_type": "markdown",
   "id": "439ad2ea-b94a-44f7-bee8-66df002716ad",
   "metadata": {},
   "source": [
    "#### ¿Qué modelo de equipamiento son los mas propensos a fallar?\n",
    "\n",
    "Primero se necesita agrupar la información que concierne la pregunta"
   ]
  },
  {
   "cell_type": "code",
   "execution_count": null,
   "id": "49644759-7638-453a-b4b5-22dff9836330",
   "metadata": {},
   "outputs": [],
   "source": []
  },
  {
   "cell_type": "markdown",
   "id": "ff287b86-253c-452e-b18d-1d4ff8dad1f8",
   "metadata": {},
   "source": [
    "#### ¿Cuáles son las causas mas comunes que provocan los fallos y con que piezas se tienden a reemplazar?"
   ]
  },
  {
   "cell_type": "code",
   "execution_count": null,
   "id": "98582f2c-b1b6-4c97-a218-7a17bd1f4424",
   "metadata": {},
   "outputs": [],
   "source": []
  },
  {
   "cell_type": "markdown",
   "id": "61617a0c-40f4-4c46-8070-5092bdf669ac",
   "metadata": {},
   "source": [
    "#### ¿Existe relación entre las fechas de los fallos con algun evento en especifico? Por ejemplo un apagon masivo, en cuyo caso, ¿Qué información podría proveer?"
   ]
  },
  {
   "cell_type": "code",
   "execution_count": null,
   "id": "eddaa0d0-8c19-4a33-9697-53a3c2d2a660",
   "metadata": {},
   "outputs": [],
   "source": []
  },
  {
   "cell_type": "markdown",
   "id": "a8983131-f777-4300-bdf1-2d63c5bb6584",
   "metadata": {},
   "source": [
    "#### ¿Tendrá relación la cantidad de años en servicio y el promedio de fallos en dicho tiempo? Sera posible que a medida que más envejezca, más propenso sea a tener errores o seguira igual."
   ]
  },
  {
   "cell_type": "code",
   "execution_count": null,
   "id": "b3fb871a-3ca6-4d74-8d70-60b7176b8897",
   "metadata": {},
   "outputs": [],
   "source": []
  },
  {
   "cell_type": "markdown",
   "id": "859234fd-0c46-4c68-9dac-54646cf1555d",
   "metadata": {},
   "source": [
    "#### ¿Qué relacion existe entre las variables de telemetria? Siendo este análisis el más importante, ¿Podemos encontrar las relaciones pertinentes entre las fallas y las variables de telemetria que corresponden? ¿Cómo podríamos identificar las irregularidades para predecir que va a fallar a futuro?"
   ]
  },
  {
   "cell_type": "code",
   "execution_count": null,
   "id": "90832fdc-3f97-4479-b377-31b3d5bbd5cd",
   "metadata": {},
   "outputs": [],
   "source": []
  }
 ],
 "metadata": {
  "kernelspec": {
   "display_name": "Python 3 (ipykernel)",
   "language": "python",
   "name": "python3"
  },
  "language_info": {
   "codemirror_mode": {
    "name": "ipython",
    "version": 3
   },
   "file_extension": ".py",
   "mimetype": "text/x-python",
   "name": "python",
   "nbconvert_exporter": "python",
   "pygments_lexer": "ipython3",
   "version": "3.8.12"
  }
 },
 "nbformat": 4,
 "nbformat_minor": 5
}
